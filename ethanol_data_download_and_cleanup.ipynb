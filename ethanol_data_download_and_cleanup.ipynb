{
 "cells": [
  {
   "metadata": {},
   "cell_type": "markdown",
   "source": "# Bioethanol production in Brazil",
   "id": "8a77807f92f26ee"
  },
  {
   "metadata": {},
   "cell_type": "markdown",
   "source": "### Downloading the data",
   "id": "954a1ef47b664ddd"
  },
  {
   "metadata": {
    "ExecuteTime": {
     "end_time": "2025-01-08T20:28:21.179421Z",
     "start_time": "2025-01-08T20:28:21.170813Z"
    }
   },
   "cell_type": "code",
   "source": [
    "# Un-comment to download spreadsheets to data folder\n",
    "#import requests, zipfile, io\n",
    "#r = requests.get('https://www.gov.br/anp/pt-br/assuntos/producao-e-fornecimento-de-biocombustiveis/etanol/arquivos-etanol/pb-da-etanol.zip')\n",
    "#z = zipfile.ZipFile(io.BytesIO(r.content))\n",
    "#z.extractall(path='./data/')"
   ],
   "id": "fbc121e30a2defb3",
   "outputs": [],
   "execution_count": 1
  },
  {
   "metadata": {},
   "cell_type": "markdown",
   "source": "### Reading the data",
   "id": "e501b65b5f280bd9"
  },
  {
   "metadata": {
    "ExecuteTime": {
     "end_time": "2025-01-08T20:28:21.200320Z",
     "start_time": "2025-01-08T20:28:21.185168Z"
    }
   },
   "cell_type": "code",
   "source": [
    "from pathlib import Path\n",
    "import csv\n",
    "from unittest.mock import inplace"
   ],
   "id": "9a802745bdd5ca9d",
   "outputs": [],
   "execution_count": 2
  },
  {
   "metadata": {
    "ExecuteTime": {
     "end_time": "2025-01-08T20:28:21.302158Z",
     "start_time": "2025-01-08T20:28:21.275395Z"
    }
   },
   "cell_type": "code",
   "source": [
    "# File containing production capacity per plant site\n",
    "path = Path('./data/Etanol_DadosAbertos_CSV_Capacidade.csv')\n",
    "lines = path.read_text(encoding='utf-8').splitlines()\n",
    "\n",
    "reader = csv.reader(lines)\n",
    "header_row = next(reader)"
   ],
   "id": "81bf9f28e964ad91",
   "outputs": [],
   "execution_count": 3
  },
  {
   "metadata": {
    "ExecuteTime": {
     "end_time": "2025-01-08T20:28:21.312675Z",
     "start_time": "2025-01-08T20:28:21.304171Z"
    }
   },
   "cell_type": "code",
   "source": [
    "print(\"Column names:\")\n",
    "for i, name in enumerate(header_row):\n",
    "    print(f\"{i}: {name}\")"
   ],
   "id": "efa7e0707f9f0c29",
   "outputs": [
    {
     "name": "stdout",
     "output_type": "stream",
     "text": [
      "Column names:\n",
      "0: ﻿Mês/Ano\n",
      "1: Razão Social\n",
      "2: CNPJ\n",
      "3: Região\n",
      "4: Estado\n",
      "5: Município\n",
      "6: Capacidade Produção Etanol Anidro (m³/d)\n",
      "7: Capacidade Produção Etanol Hidratado (m³/d)\n"
     ]
    }
   ],
   "execution_count": 4
  },
  {
   "metadata": {},
   "cell_type": "markdown",
   "source": "Note: A CNPJ, or Cadastro Nacional de Pessoa Jurídica, is a unique tax identification number given to entities such as companies, partnerships, foundations and in this case, plant sites. Each plant site has its own unique CNPJ. This means that a company with multiple plants will have multiple CNPJs with a different number for each site.",
   "id": "6164887979122b36"
  },
  {
   "metadata": {
    "ExecuteTime": {
     "end_time": "2025-01-08T20:28:21.751330Z",
     "start_time": "2025-01-08T20:28:21.338106Z"
    }
   },
   "cell_type": "code",
   "source": "import pandas as pd",
   "id": "61f3e4c7d02af5d",
   "outputs": [],
   "execution_count": 5
  },
  {
   "metadata": {
    "ExecuteTime": {
     "end_time": "2025-01-08T20:28:21.758695Z",
     "start_time": "2025-01-08T20:28:21.751330Z"
    }
   },
   "cell_type": "code",
   "source": "date_format = '%m/%Y'",
   "id": "349dd08733ebc089",
   "outputs": [],
   "execution_count": 6
  },
  {
   "metadata": {
    "ExecuteTime": {
     "end_time": "2025-01-08T20:28:24.045814Z",
     "start_time": "2025-01-08T20:28:21.768112Z"
    }
   },
   "cell_type": "code",
   "source": [
    "dates = []\n",
    "names = []\n",
    "cnpjs = []\n",
    "states = []\n",
    "capacities_anhydrous = []\n",
    "capacities_hydrous = []\n",
    "\n",
    "\n",
    "for row in reader:\n",
    "    date = pd.to_datetime(row[0], format=date_format)\n",
    "    name = row[1]\n",
    "    cnpj = int(row[2])\n",
    "    state = row[4]\n",
    "    capacity_anhydrous = int(row[6])\n",
    "    capacity_hydrous = int(row[7])\n",
    "\n",
    "    dates.append(date)\n",
    "    names.append(name)\n",
    "    cnpjs.append(cnpj)\n",
    "    states.append(state)\n",
    "    capacities_anhydrous.append(capacity_anhydrous)\n",
    "    capacities_hydrous.append(capacity_hydrous)"
   ],
   "id": "192be0d172f57d0d",
   "outputs": [],
   "execution_count": 7
  },
  {
   "metadata": {
    "ExecuteTime": {
     "end_time": "2025-01-08T20:28:24.151824Z",
     "start_time": "2025-01-08T20:28:24.056232Z"
    }
   },
   "cell_type": "code",
   "source": [
    "df = pd.DataFrame({'date': dates,\n",
    "                   'name': names,\n",
    "                   'cnpj': cnpjs,\n",
    "                   'state': states,\n",
    "                   'capacity_hydrous': capacities_hydrous,\n",
    "                   'capacity_anhydrous': capacities_anhydrous})"
   ],
   "id": "4ffa87bc2fff0b5a",
   "outputs": [],
   "execution_count": 8
  },
  {
   "metadata": {
    "ExecuteTime": {
     "end_time": "2025-01-08T20:28:24.184355Z",
     "start_time": "2025-01-08T20:28:24.169409Z"
    }
   },
   "cell_type": "code",
   "source": "df.head()",
   "id": "93e02d9fdb35c1ed",
   "outputs": [
    {
     "data": {
      "text/plain": [
       "        date                                               name          cnpj  \\\n",
       "0 2024-11-01                            CARAMURU ALIMENTOS  S/A   80671002668   \n",
       "1 2024-11-01  DESTILARIA DE ÁLCOOL LIBRA LTDA - EM RECUPERAÇ...  297598000122   \n",
       "2 2024-11-01            CENTRAL ENERGETICA VALE DO SAPUCAI LTDA  372496000124   \n",
       "3 2024-11-01  DENUSA DESTILARIA NOVA UNIAO S/A - EM RECUPERA...  595322000120   \n",
       "4 2024-11-01                    SANTA CRUZ ACUCAR E ALCOOL LTDA  738822000255   \n",
       "\n",
       "         state  capacity_hydrous  capacity_anhydrous  \n",
       "0  Mato Grosso                50                   0  \n",
       "1  Mato Grosso               600                 600  \n",
       "2    São Paulo               900                 517  \n",
       "3        Goiás               650                 450  \n",
       "4        Bahia               240                 200  "
      ],
      "text/html": [
       "<div>\n",
       "<style scoped>\n",
       "    .dataframe tbody tr th:only-of-type {\n",
       "        vertical-align: middle;\n",
       "    }\n",
       "\n",
       "    .dataframe tbody tr th {\n",
       "        vertical-align: top;\n",
       "    }\n",
       "\n",
       "    .dataframe thead th {\n",
       "        text-align: right;\n",
       "    }\n",
       "</style>\n",
       "<table border=\"1\" class=\"dataframe\">\n",
       "  <thead>\n",
       "    <tr style=\"text-align: right;\">\n",
       "      <th></th>\n",
       "      <th>date</th>\n",
       "      <th>name</th>\n",
       "      <th>cnpj</th>\n",
       "      <th>state</th>\n",
       "      <th>capacity_hydrous</th>\n",
       "      <th>capacity_anhydrous</th>\n",
       "    </tr>\n",
       "  </thead>\n",
       "  <tbody>\n",
       "    <tr>\n",
       "      <th>0</th>\n",
       "      <td>2024-11-01</td>\n",
       "      <td>CARAMURU ALIMENTOS  S/A</td>\n",
       "      <td>80671002668</td>\n",
       "      <td>Mato Grosso</td>\n",
       "      <td>50</td>\n",
       "      <td>0</td>\n",
       "    </tr>\n",
       "    <tr>\n",
       "      <th>1</th>\n",
       "      <td>2024-11-01</td>\n",
       "      <td>DESTILARIA DE ÁLCOOL LIBRA LTDA - EM RECUPERAÇ...</td>\n",
       "      <td>297598000122</td>\n",
       "      <td>Mato Grosso</td>\n",
       "      <td>600</td>\n",
       "      <td>600</td>\n",
       "    </tr>\n",
       "    <tr>\n",
       "      <th>2</th>\n",
       "      <td>2024-11-01</td>\n",
       "      <td>CENTRAL ENERGETICA VALE DO SAPUCAI LTDA</td>\n",
       "      <td>372496000124</td>\n",
       "      <td>São Paulo</td>\n",
       "      <td>900</td>\n",
       "      <td>517</td>\n",
       "    </tr>\n",
       "    <tr>\n",
       "      <th>3</th>\n",
       "      <td>2024-11-01</td>\n",
       "      <td>DENUSA DESTILARIA NOVA UNIAO S/A - EM RECUPERA...</td>\n",
       "      <td>595322000120</td>\n",
       "      <td>Goiás</td>\n",
       "      <td>650</td>\n",
       "      <td>450</td>\n",
       "    </tr>\n",
       "    <tr>\n",
       "      <th>4</th>\n",
       "      <td>2024-11-01</td>\n",
       "      <td>SANTA CRUZ ACUCAR E ALCOOL LTDA</td>\n",
       "      <td>738822000255</td>\n",
       "      <td>Bahia</td>\n",
       "      <td>240</td>\n",
       "      <td>200</td>\n",
       "    </tr>\n",
       "  </tbody>\n",
       "</table>\n",
       "</div>"
      ]
     },
     "execution_count": 9,
     "metadata": {},
     "output_type": "execute_result"
    }
   ],
   "execution_count": 9
  },
  {
   "metadata": {},
   "cell_type": "markdown",
   "source": "### Exploring the data",
   "id": "93dfd15228a2d609"
  },
  {
   "metadata": {
    "ExecuteTime": {
     "end_time": "2025-01-08T20:28:24.233963Z",
     "start_time": "2025-01-08T20:28:24.230725Z"
    }
   },
   "cell_type": "code",
   "source": [
    "def get_most_recent_record(df,cnpj):\n",
    "    return df[df['cnpj']==cnpj].to_dict('records')[0]"
   ],
   "id": "db1f7cf61c506aad",
   "outputs": [],
   "execution_count": 10
  },
  {
   "metadata": {
    "ExecuteTime": {
     "end_time": "2025-01-08T20:28:24.258562Z",
     "start_time": "2025-01-08T20:28:24.239971Z"
    }
   },
   "cell_type": "code",
   "source": [
    "def get_subset_for_last_records_of_the_year(df,year):\n",
    "\n",
    "    df_subset = df[(df['date'].dt.year > year-1) & (df['date'].dt.year < year+1)]\n",
    "\n",
    "    unique_cnpj_list = df_subset['cnpj'].unique().tolist()\n",
    "\n",
    "    for cnpj in unique_cnpj_list:\n",
    "\n",
    "        date = get_most_recent_record(df_subset,cnpj)['date']\n",
    "\n",
    "        df_subset = df_subset[~((df_subset['date']!=date) & (df_subset['cnpj']==cnpj))]\n",
    "\n",
    "    return df_subset"
   ],
   "id": "c02c3c4b4a95cb03",
   "outputs": [],
   "execution_count": 11
  },
  {
   "metadata": {
    "ExecuteTime": {
     "end_time": "2025-01-08T20:28:24.312105Z",
     "start_time": "2025-01-08T20:28:24.307882Z"
    }
   },
   "cell_type": "code",
   "source": "year = 2024",
   "id": "108ea2cf58c75502",
   "outputs": [],
   "execution_count": 12
  },
  {
   "metadata": {
    "ExecuteTime": {
     "end_time": "2025-01-08T20:28:24.812543Z",
     "start_time": "2025-01-08T20:28:24.358830Z"
    }
   },
   "cell_type": "code",
   "source": "df_2024 = get_subset_for_last_records_of_the_year(df,year)",
   "id": "df3192cae726c1f5",
   "outputs": [],
   "execution_count": 13
  }
 ],
 "metadata": {
  "kernelspec": {
   "display_name": "Python 3",
   "language": "python",
   "name": "python3"
  },
  "language_info": {
   "codemirror_mode": {
    "name": "ipython",
    "version": 2
   },
   "file_extension": ".py",
   "mimetype": "text/x-python",
   "name": "python",
   "nbconvert_exporter": "python",
   "pygments_lexer": "ipython2",
   "version": "2.7.6"
  }
 },
 "nbformat": 4,
 "nbformat_minor": 5
}
