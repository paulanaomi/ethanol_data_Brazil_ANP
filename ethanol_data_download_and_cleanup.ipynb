{
 "cells": [
  {
   "metadata": {},
   "cell_type": "markdown",
   "source": "# Bioethanol production in Brazil",
   "id": "8a77807f92f26ee"
  },
  {
   "metadata": {},
   "cell_type": "markdown",
   "source": "### Downloading the data",
   "id": "954a1ef47b664ddd"
  },
  {
   "metadata": {
    "ExecuteTime": {
     "end_time": "2025-01-08T23:14:35.467310Z",
     "start_time": "2025-01-08T23:14:35.461768Z"
    }
   },
   "cell_type": "code",
   "source": [
    "# Un-comment to download spreadsheets to data folder\n",
    "#import requests, zipfile, io\n",
    "#r = requests.get('https://www.gov.br/anp/pt-br/assuntos/producao-e-fornecimento-de-biocombustiveis/etanol/arquivos-etanol/pb-da-etanol.zip')\n",
    "#z = zipfile.ZipFile(io.BytesIO(r.content))\n",
    "#z.extractall(path='./data/')"
   ],
   "id": "fbc121e30a2defb3",
   "outputs": [],
   "execution_count": 1
  },
  {
   "metadata": {},
   "cell_type": "markdown",
   "source": "### Reading the data",
   "id": "e501b65b5f280bd9"
  },
  {
   "metadata": {
    "ExecuteTime": {
     "end_time": "2025-01-08T23:14:35.478535Z",
     "start_time": "2025-01-08T23:14:35.473340Z"
    }
   },
   "cell_type": "code",
   "source": [
    "from pathlib import Path\n",
    "import csv"
   ],
   "id": "9a802745bdd5ca9d",
   "outputs": [],
   "execution_count": 2
  },
  {
   "metadata": {
    "ExecuteTime": {
     "end_time": "2025-01-08T23:14:35.601616Z",
     "start_time": "2025-01-08T23:14:35.570799Z"
    }
   },
   "cell_type": "code",
   "source": [
    "# File containing production capacity per plant site\n",
    "path = Path('./data/Etanol_DadosAbertos_CSV_Capacidade.csv')\n",
    "lines = path.read_text(encoding='utf-8').splitlines()\n",
    "\n",
    "reader = csv.reader(lines)\n",
    "header_row = next(reader)"
   ],
   "id": "81bf9f28e964ad91",
   "outputs": [],
   "execution_count": 3
  },
  {
   "metadata": {
    "ExecuteTime": {
     "end_time": "2025-01-08T23:14:35.629401Z",
     "start_time": "2025-01-08T23:14:35.621572Z"
    }
   },
   "cell_type": "code",
   "source": [
    "print(\"Column names:\")\n",
    "for i, name in enumerate(header_row):\n",
    "    print(f\"{i}: {name}\")"
   ],
   "id": "efa7e0707f9f0c29",
   "outputs": [
    {
     "name": "stdout",
     "output_type": "stream",
     "text": [
      "Column names:\n",
      "0: ﻿Mês/Ano\n",
      "1: Razão Social\n",
      "2: CNPJ\n",
      "3: Região\n",
      "4: Estado\n",
      "5: Município\n",
      "6: Capacidade Produção Etanol Anidro (m³/d)\n",
      "7: Capacidade Produção Etanol Hidratado (m³/d)\n"
     ]
    }
   ],
   "execution_count": 4
  },
  {
   "metadata": {},
   "cell_type": "markdown",
   "source": "Note: A CNPJ, or Cadastro Nacional de Pessoa Jurídica, is a unique tax identification number given to entities such as companies, partnerships, foundations and in this case, plant sites. Each plant site has its own unique CNPJ. This means that a company with multiple plants will have multiple CNPJs with a different number for each site.",
   "id": "6164887979122b36"
  },
  {
   "metadata": {
    "ExecuteTime": {
     "end_time": "2025-01-08T23:14:36.448601Z",
     "start_time": "2025-01-08T23:14:35.670540Z"
    }
   },
   "cell_type": "code",
   "source": "import pandas as pd",
   "id": "61f3e4c7d02af5d",
   "outputs": [],
   "execution_count": 5
  },
  {
   "metadata": {
    "ExecuteTime": {
     "end_time": "2025-01-08T23:14:36.467662Z",
     "start_time": "2025-01-08T23:14:36.460163Z"
    }
   },
   "cell_type": "code",
   "source": "date_format = '%m/%Y'",
   "id": "349dd08733ebc089",
   "outputs": [],
   "execution_count": 6
  },
  {
   "metadata": {
    "ExecuteTime": {
     "end_time": "2025-01-08T23:14:39.047715Z",
     "start_time": "2025-01-08T23:14:36.478658Z"
    }
   },
   "cell_type": "code",
   "source": [
    "dates = []\n",
    "names = []\n",
    "cnpjs = []\n",
    "states = []\n",
    "capacities_anhydrous = []\n",
    "capacities_hydrous = []\n",
    "\n",
    "\n",
    "for row in reader:\n",
    "    date = pd.to_datetime(row[0], format=date_format)\n",
    "    name = row[1]\n",
    "    cnpj = int(row[2])\n",
    "    state = row[4]\n",
    "    capacity_anhydrous = int(row[6])\n",
    "    capacity_hydrous = int(row[7])\n",
    "\n",
    "    dates.append(date)\n",
    "    names.append(name)\n",
    "    cnpjs.append(cnpj)\n",
    "    states.append(state)\n",
    "    capacities_anhydrous.append(capacity_anhydrous)\n",
    "    capacities_hydrous.append(capacity_hydrous)"
   ],
   "id": "192be0d172f57d0d",
   "outputs": [],
   "execution_count": 7
  },
  {
   "metadata": {
    "ExecuteTime": {
     "end_time": "2025-01-08T23:14:39.160191Z",
     "start_time": "2025-01-08T23:14:39.056462Z"
    }
   },
   "cell_type": "code",
   "source": [
    "df = pd.DataFrame({'date': dates,\n",
    "                   'name': names,\n",
    "                   'cnpj': cnpjs,\n",
    "                   'state': states,\n",
    "                   'capacity_hydrous': capacities_hydrous,\n",
    "                   'capacity_anhydrous': capacities_anhydrous})"
   ],
   "id": "4ffa87bc2fff0b5a",
   "outputs": [],
   "execution_count": 8
  },
  {
   "metadata": {
    "ExecuteTime": {
     "end_time": "2025-01-08T23:14:39.187615Z",
     "start_time": "2025-01-08T23:14:39.172867Z"
    }
   },
   "cell_type": "code",
   "source": "df.head()",
   "id": "93e02d9fdb35c1ed",
   "outputs": [
    {
     "data": {
      "text/plain": [
       "        date                                               name          cnpj  \\\n",
       "0 2024-11-01                            CARAMURU ALIMENTOS  S/A   80671002668   \n",
       "1 2024-11-01  DESTILARIA DE ÁLCOOL LIBRA LTDA - EM RECUPERAÇ...  297598000122   \n",
       "2 2024-11-01            CENTRAL ENERGETICA VALE DO SAPUCAI LTDA  372496000124   \n",
       "3 2024-11-01  DENUSA DESTILARIA NOVA UNIAO S/A - EM RECUPERA...  595322000120   \n",
       "4 2024-11-01                    SANTA CRUZ ACUCAR E ALCOOL LTDA  738822000255   \n",
       "\n",
       "         state  capacity_hydrous  capacity_anhydrous  \n",
       "0  Mato Grosso                50                   0  \n",
       "1  Mato Grosso               600                 600  \n",
       "2    São Paulo               900                 517  \n",
       "3        Goiás               650                 450  \n",
       "4        Bahia               240                 200  "
      ],
      "text/html": [
       "<div>\n",
       "<style scoped>\n",
       "    .dataframe tbody tr th:only-of-type {\n",
       "        vertical-align: middle;\n",
       "    }\n",
       "\n",
       "    .dataframe tbody tr th {\n",
       "        vertical-align: top;\n",
       "    }\n",
       "\n",
       "    .dataframe thead th {\n",
       "        text-align: right;\n",
       "    }\n",
       "</style>\n",
       "<table border=\"1\" class=\"dataframe\">\n",
       "  <thead>\n",
       "    <tr style=\"text-align: right;\">\n",
       "      <th></th>\n",
       "      <th>date</th>\n",
       "      <th>name</th>\n",
       "      <th>cnpj</th>\n",
       "      <th>state</th>\n",
       "      <th>capacity_hydrous</th>\n",
       "      <th>capacity_anhydrous</th>\n",
       "    </tr>\n",
       "  </thead>\n",
       "  <tbody>\n",
       "    <tr>\n",
       "      <th>0</th>\n",
       "      <td>2024-11-01</td>\n",
       "      <td>CARAMURU ALIMENTOS  S/A</td>\n",
       "      <td>80671002668</td>\n",
       "      <td>Mato Grosso</td>\n",
       "      <td>50</td>\n",
       "      <td>0</td>\n",
       "    </tr>\n",
       "    <tr>\n",
       "      <th>1</th>\n",
       "      <td>2024-11-01</td>\n",
       "      <td>DESTILARIA DE ÁLCOOL LIBRA LTDA - EM RECUPERAÇ...</td>\n",
       "      <td>297598000122</td>\n",
       "      <td>Mato Grosso</td>\n",
       "      <td>600</td>\n",
       "      <td>600</td>\n",
       "    </tr>\n",
       "    <tr>\n",
       "      <th>2</th>\n",
       "      <td>2024-11-01</td>\n",
       "      <td>CENTRAL ENERGETICA VALE DO SAPUCAI LTDA</td>\n",
       "      <td>372496000124</td>\n",
       "      <td>São Paulo</td>\n",
       "      <td>900</td>\n",
       "      <td>517</td>\n",
       "    </tr>\n",
       "    <tr>\n",
       "      <th>3</th>\n",
       "      <td>2024-11-01</td>\n",
       "      <td>DENUSA DESTILARIA NOVA UNIAO S/A - EM RECUPERA...</td>\n",
       "      <td>595322000120</td>\n",
       "      <td>Goiás</td>\n",
       "      <td>650</td>\n",
       "      <td>450</td>\n",
       "    </tr>\n",
       "    <tr>\n",
       "      <th>4</th>\n",
       "      <td>2024-11-01</td>\n",
       "      <td>SANTA CRUZ ACUCAR E ALCOOL LTDA</td>\n",
       "      <td>738822000255</td>\n",
       "      <td>Bahia</td>\n",
       "      <td>240</td>\n",
       "      <td>200</td>\n",
       "    </tr>\n",
       "  </tbody>\n",
       "</table>\n",
       "</div>"
      ]
     },
     "execution_count": 9,
     "metadata": {},
     "output_type": "execute_result"
    }
   ],
   "execution_count": 9
  },
  {
   "metadata": {},
   "cell_type": "markdown",
   "source": "### Exploring the data",
   "id": "93dfd15228a2d609"
  },
  {
   "metadata": {
    "ExecuteTime": {
     "end_time": "2025-01-08T23:14:39.210579Z",
     "start_time": "2025-01-08T23:14:39.204580Z"
    }
   },
   "cell_type": "code",
   "source": [
    "def get_most_recent_record(df,cnpj):\n",
    "    return df[df['cnpj']==cnpj].to_dict('records')[0]"
   ],
   "id": "db1f7cf61c506aad",
   "outputs": [],
   "execution_count": 10
  },
  {
   "metadata": {
    "ExecuteTime": {
     "end_time": "2025-01-08T23:14:39.248311Z",
     "start_time": "2025-01-08T23:14:39.241609Z"
    }
   },
   "cell_type": "code",
   "source": [
    "def get_subset_for_last_records_of_the_year(df,year):\n",
    "\n",
    "    df_subset = df[(df['date'].dt.year > year-1) & (df['date'].dt.year < year+1)]\n",
    "    unique_cnpj_list = df_subset['cnpj'].unique().tolist()\n",
    "\n",
    "    for cnpj in unique_cnpj_list:\n",
    "        date = get_most_recent_record(df_subset,cnpj)['date']\n",
    "        df_subset = df_subset[~((df_subset['date']!=date) & (df_subset['cnpj']==cnpj))]\n",
    "\n",
    "    return df_subset"
   ],
   "id": "c02c3c4b4a95cb03",
   "outputs": [],
   "execution_count": 11
  },
  {
   "metadata": {
    "ExecuteTime": {
     "end_time": "2025-01-08T23:14:39.314554Z",
     "start_time": "2025-01-08T23:14:39.308688Z"
    }
   },
   "cell_type": "code",
   "source": "year = 2024",
   "id": "108ea2cf58c75502",
   "outputs": [],
   "execution_count": 12
  },
  {
   "metadata": {
    "ExecuteTime": {
     "end_time": "2025-01-08T23:14:39.833300Z",
     "start_time": "2025-01-08T23:14:39.371994Z"
    }
   },
   "cell_type": "code",
   "source": "df_2024 = get_subset_for_last_records_of_the_year(df,year)",
   "id": "df3192cae726c1f5",
   "outputs": [],
   "execution_count": 13
  },
  {
   "metadata": {
    "ExecuteTime": {
     "end_time": "2025-01-08T23:14:39.840707Z",
     "start_time": "2025-01-08T23:14:39.834400Z"
    }
   },
   "cell_type": "code",
   "source": "import numpy as np",
   "id": "5afe3c40cbaf648e",
   "outputs": [],
   "execution_count": 14
  },
  {
   "metadata": {
    "ExecuteTime": {
     "end_time": "2025-01-08T23:14:40.307960Z",
     "start_time": "2025-01-08T23:14:39.851939Z"
    }
   },
   "cell_type": "code",
   "source": "import matplotlib.pyplot as plt",
   "id": "7d089b11e7de2b43",
   "outputs": [],
   "execution_count": 15
  },
  {
   "metadata": {
    "ExecuteTime": {
     "end_time": "2025-01-08T23:14:40.325417Z",
     "start_time": "2025-01-08T23:14:40.318241Z"
    }
   },
   "cell_type": "code",
   "source": [
    "Nvals = 10\n",
    "bar_labels = df_2024.sort_values(by=['capacity_anhydrous'], ascending=False)['name'].head(Nvals).tolist()\n",
    "\n",
    "labels = []\n",
    "for i, name in enumerate(bar_labels,start=1):\n",
    "    labels.append(f\"{i}: {name}\")\n"
   ],
   "id": "36b15dac672268bf",
   "outputs": [],
   "execution_count": 16
  },
  {
   "metadata": {
    "ExecuteTime": {
     "end_time": "2025-01-08T23:18:56.212189Z",
     "start_time": "2025-01-08T23:18:56.200485Z"
    }
   },
   "cell_type": "code",
   "source": [
    "bar_colors = ['tab:red', 'tab:red', 'tab:blue', 'tab:blue', 'tab:blue', 'tab:orange', 'tab:olive', 'tab:purple', 'tab:orange', 'tab:green']\n",
    "# https://matplotlib.org/stable/gallery/color/named_colors.html\n",
    "# create a function that returns colornames"
   ],
   "id": "8dcca563b39863fc",
   "outputs": [],
   "execution_count": 23
  },
  {
   "metadata": {
    "ExecuteTime": {
     "end_time": "2025-01-08T23:18:57.669623Z",
     "start_time": "2025-01-08T23:18:57.515172Z"
    }
   },
   "cell_type": "code",
   "source": [
    "fig, ax = plt.subplots(figsize=(10,5))\n",
    "xvals = np.arange(1,Nvals+1,1)\n",
    "yvals = df_2024.sort_values(by=['capacity_anhydrous'], ascending=False)['capacity_anhydrous'].head(Nvals)\n",
    "ax.bar(xvals , yvals, label = labels, color = bar_colors)\n",
    "ax.legend(title='Key')\n",
    "ax.set_title('Ranking of 10 largest ethanol plants (by capacity) in 2024')\n",
    "ax.set_xticks(xvals)\n",
    "ax.set_xlabel('Rank', fontsize=14)\n",
    "ax.set_ylabel('Production capacity (m³/day)', fontsize=14)\n",
    "plt.show()"
   ],
   "id": "f4f942f5a630ce22",
   "outputs": [
    {
     "data": {
      "text/plain": [
       "<Figure size 1000x500 with 1 Axes>"
      ],
      "image/png": "[encoded data removed]"
     },
     "metadata": {},
     "output_type": "display_data"
    }
   ],
   "execution_count": 24
  }
 ],
 "metadata": {
  "kernelspec": {
   "display_name": "Python 3",
   "language": "python",
   "name": "python3"
  },
  "language_info": {
   "codemirror_mode": {
    "name": "ipython",
    "version": 2
   },
   "file_extension": ".py",
   "mimetype": "text/x-python",
   "name": "python",
   "nbconvert_exporter": "python",
   "pygments_lexer": "ipython2",
   "version": "2.7.6"
  }
 },
 "nbformat": 4,
 "nbformat_minor": 5
}
