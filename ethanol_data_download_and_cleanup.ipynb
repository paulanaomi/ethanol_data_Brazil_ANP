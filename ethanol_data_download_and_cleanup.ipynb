{
 "cells": [
  {
   "metadata": {},
   "cell_type": "markdown",
   "source": "## Bioethanol production in Brazil",
   "id": "8a77807f92f26ee"
  },
  {
   "metadata": {},
   "cell_type": "markdown",
   "source": "### Downloading the data",
   "id": "954a1ef47b664ddd"
  },
  {
   "metadata": {
    "ExecuteTime": {
     "end_time": "2025-01-07T13:05:54.706388Z",
     "start_time": "2025-01-07T13:05:53.372921Z"
    }
   },
   "cell_type": "code",
   "source": [
    "# Un-comment to download spreadsheets to data folder\n",
    "import requests, zipfile, io\n",
    "r = requests.get('https://www.gov.br/anp/pt-br/assuntos/producao-e-fornecimento-de-biocombustiveis/etanol/arquivos-etanol/pb-da-etanol.zip')\n",
    "z = zipfile.ZipFile(io.BytesIO(r.content))\n",
    "z.extractall(path='./data/')"
   ],
   "id": "fbc121e30a2defb3",
   "outputs": [],
   "execution_count": 1
  },
  {
   "metadata": {},
   "cell_type": "markdown",
   "source": "### Reading the data",
   "id": "e501b65b5f280bd9"
  },
  {
   "metadata": {
    "ExecuteTime": {
     "end_time": "2025-01-07T13:05:54.723692Z",
     "start_time": "2025-01-07T13:05:54.717706Z"
    }
   },
   "cell_type": "code",
   "source": [
    "from pathlib import Path\n",
    "import csv"
   ],
   "id": "9a802745bdd5ca9d",
   "outputs": [],
   "execution_count": 2
  },
  {
   "metadata": {
    "ExecuteTime": {
     "end_time": "2025-01-07T13:05:54.769096Z",
     "start_time": "2025-01-07T13:05:54.731718Z"
    }
   },
   "cell_type": "code",
   "source": [
    "# File containing production capacity per plant site\n",
    "path = Path('./data/Etanol_DadosAbertos_CSV_Capacidade.csv')\n",
    "lines = path.read_text(encoding='utf-8').splitlines()\n",
    "\n",
    "reader = csv.reader(lines)\n",
    "header_row = next(reader)"
   ],
   "id": "81bf9f28e964ad91",
   "outputs": [],
   "execution_count": 3
  },
  {
   "metadata": {
    "ExecuteTime": {
     "end_time": "2025-01-07T13:05:55.188224Z",
     "start_time": "2025-01-07T13:05:55.183598Z"
    }
   },
   "cell_type": "code",
   "source": [
    "print(\"Column names:\")\n",
    "for i, name in enumerate(header_row):\n",
    "    print(f\"{i}: {name}\")"
   ],
   "id": "efa7e0707f9f0c29",
   "outputs": [
    {
     "name": "stdout",
     "output_type": "stream",
     "text": [
      "Column names:\n",
      "0: ﻿Mês/Ano\n",
      "1: Razão Social\n",
      "2: CNPJ\n",
      "3: Região\n",
      "4: Estado\n",
      "5: Município\n",
      "6: Capacidade Produção Etanol Anidro (m³/d)\n",
      "7: Capacidade Produção Etanol Hidratado (m³/d)\n"
     ]
    }
   ],
   "execution_count": 4
  },
  {
   "metadata": {},
   "cell_type": "markdown",
   "source": "Note: A CNPJ, or Cadastro Nacional de Pessoa Jurídica, is a unique tax identification number given to entities such as companies, partnerships, foundations and in this case, plant sites. Each plant site has its own unique CNPJ. This means that a company with multiple plants will have multiple CNPJs with a different number for each site.",
   "id": "6164887979122b36"
  },
  {
   "metadata": {
    "ExecuteTime": {
     "end_time": "2025-01-07T13:05:55.206973Z",
     "start_time": "2025-01-07T13:05:55.201933Z"
    }
   },
   "cell_type": "code",
   "source": "import datetime as dt",
   "id": "c336f1709901e1c8",
   "outputs": [],
   "execution_count": 5
  },
  {
   "metadata": {
    "ExecuteTime": {
     "end_time": "2025-01-07T13:05:55.268345Z",
     "start_time": "2025-01-07T13:05:55.255357Z"
    }
   },
   "cell_type": "code",
   "source": [
    "date_format = '%m/%Y'\n",
    "#print( dt.datetime.strptime(df['date'][0],date_format).date() )"
   ],
   "id": "a4fd559a93011534",
   "outputs": [],
   "execution_count": 6
  },
  {
   "metadata": {
    "ExecuteTime": {
     "end_time": "2025-01-07T13:05:55.628014Z",
     "start_time": "2025-01-07T13:05:55.289266Z"
    }
   },
   "cell_type": "code",
   "source": [
    "dates = []\n",
    "names = []\n",
    "cnpjs = []\n",
    "states = []\n",
    "capacities_anhydrous = []\n",
    "capacities_hydrous = []\n",
    "\n",
    "\n",
    "for row in reader:\n",
    "    date = dt.datetime.strptime(row[0],date_format).date()\n",
    "    name = row[1]\n",
    "    cnpj = int(row[2])\n",
    "    state = row[4]\n",
    "    capacity_anhydrous = int(row[6])\n",
    "    capacity_hydrous = int(row[7])\n",
    "\n",
    "    dates.append(date)\n",
    "    names.append(name)\n",
    "    cnpjs.append(cnpj)\n",
    "    states.append(state)\n",
    "    capacities_anhydrous.append(capacity_anhydrous)\n",
    "    capacities_hydrous.append(capacity_hydrous)"
   ],
   "id": "192be0d172f57d0d",
   "outputs": [],
   "execution_count": 7
  },
  {
   "metadata": {
    "ExecuteTime": {
     "end_time": "2025-01-07T13:05:56.761369Z",
     "start_time": "2025-01-07T13:05:55.646562Z"
    }
   },
   "cell_type": "code",
   "source": "import pandas as pd",
   "id": "61f3e4c7d02af5d",
   "outputs": [],
   "execution_count": 8
  },
  {
   "metadata": {
    "ExecuteTime": {
     "end_time": "2025-01-07T13:05:56.856399Z",
     "start_time": "2025-01-07T13:05:56.770109Z"
    }
   },
   "cell_type": "code",
   "source": [
    "df = pd.DataFrame({'date': dates,\n",
    "                   'name': names,\n",
    "                   'cnpj': cnpjs,\n",
    "                   'state': states,\n",
    "                   'capacity_hydrous': capacities_hydrous,\n",
    "                   'capacity_anhydrous': capacities_anhydrous})"
   ],
   "id": "4ffa87bc2fff0b5a",
   "outputs": [],
   "execution_count": 9
  },
  {
   "metadata": {
    "ExecuteTime": {
     "end_time": "2025-01-07T13:05:56.910054Z",
     "start_time": "2025-01-07T13:05:56.881347Z"
    }
   },
   "cell_type": "code",
   "source": "df.head(20)",
   "id": "93e02d9fdb35c1ed",
   "outputs": [
    {
     "data": {
      "text/plain": [
       "          date                                               name  \\\n",
       "0   2024-11-01                            CARAMURU ALIMENTOS  S/A   \n",
       "1   2024-11-01  DESTILARIA DE ÁLCOOL LIBRA LTDA - EM RECUPERAÇ...   \n",
       "2   2024-11-01            CENTRAL ENERGETICA VALE DO SAPUCAI LTDA   \n",
       "3   2024-11-01  DENUSA DESTILARIA NOVA UNIAO S/A - EM RECUPERA...   \n",
       "4   2024-11-01                    SANTA CRUZ ACUCAR E ALCOOL LTDA   \n",
       "5   2024-11-01                                    CJ SELECTA S.A.   \n",
       "6   2024-11-01                             WD AGROINDUSTRIAL LTDA   \n",
       "7   2024-11-01       USINA RIO VERDE LTDA EM RECUPERACAO JUDICIAL   \n",
       "8   2024-11-01                         T.G. AGRO INDUSTRIAL LTDA.   \n",
       "9   2024-11-01  VALE VERDE EMPREENDIMENTOS AGRICOLAS LTDA EM R...   \n",
       "10  2024-11-01  VALE VERDE EMPREENDIMENTOS AGRICOLAS LTDA EM R...   \n",
       "11  2024-11-01  VALE VERDE EMPREENDIMENTOS AGRICOLAS LTDA EM R...   \n",
       "12  2024-11-01                                USINA GOIANESIA S/A   \n",
       "13  2024-11-01                                JALLES MACHADO S.A.   \n",
       "14  2024-11-01                                JALLES MACHADO S.A.   \n",
       "15  2024-11-01  USINA SANTA HELENA DE ACUCAR E ALCOOL S/A - EM...   \n",
       "16  2024-11-01                                  LASA LAGO AZUL SA   \n",
       "17  2024-11-01                        GOIASA GOIATUBA ALCOOL LTDA   \n",
       "18  2024-11-01  ANICUNS S A ALCOOL E DERIVADOS EM RECUPERACAO ...   \n",
       "19  2024-11-01   VALE DO VERDAO SOCIEDADE ANONIMA ACUCAR E ALCOOL   \n",
       "\n",
       "             cnpj                state  capacity_hydrous  capacity_anhydrous  \n",
       "0     80671002668          Mato Grosso                50                   0  \n",
       "1    297598000122          Mato Grosso               600                 600  \n",
       "2    372496000124            São Paulo               900                 517  \n",
       "3    595322000120                Goiás               650                 450  \n",
       "4    738822000255                Bahia               240                 200  \n",
       "5    969790000541         Minas Gerais                35                   0  \n",
       "6   1105558000102         Minas Gerais               450                 220  \n",
       "7   2043917000107                Goiás               330                 120  \n",
       "8   2126558000143             Maranhão               420                 200  \n",
       "9   2414858000390  Rio Grande do Norte               460                 360  \n",
       "10  2414858000470                Goiás               980                 500  \n",
       "11  2414858000632                Goiás               350                 180  \n",
       "12  2460988000105                Goiás               200                 130  \n",
       "13  2635522000195                Goiás               860                 800  \n",
       "14  2635522004930                Goiás               900                   0  \n",
       "15  2673754000219                Goiás               340                 280  \n",
       "16  2678100000105                Goiás               350                   0  \n",
       "17  2773950000184                Goiás               800                 300  \n",
       "18  2783009000141                Goiás               450                 150  \n",
       "19  2859452000230                Goiás              1280                 850  "
      ],
      "text/html": [
       "<div>\n",
       "<style scoped>\n",
       "    .dataframe tbody tr th:only-of-type {\n",
       "        vertical-align: middle;\n",
       "    }\n",
       "\n",
       "    .dataframe tbody tr th {\n",
       "        vertical-align: top;\n",
       "    }\n",
       "\n",
       "    .dataframe thead th {\n",
       "        text-align: right;\n",
       "    }\n",
       "</style>\n",
       "<table border=\"1\" class=\"dataframe\">\n",
       "  <thead>\n",
       "    <tr style=\"text-align: right;\">\n",
       "      <th></th>\n",
       "      <th>date</th>\n",
       "      <th>name</th>\n",
       "      <th>cnpj</th>\n",
       "      <th>state</th>\n",
       "      <th>capacity_hydrous</th>\n",
       "      <th>capacity_anhydrous</th>\n",
       "    </tr>\n",
       "  </thead>\n",
       "  <tbody>\n",
       "    <tr>\n",
       "      <th>0</th>\n",
       "      <td>2024-11-01</td>\n",
       "      <td>CARAMURU ALIMENTOS  S/A</td>\n",
       "      <td>80671002668</td>\n",
       "      <td>Mato Grosso</td>\n",
       "      <td>50</td>\n",
       "      <td>0</td>\n",
       "    </tr>\n",
       "    <tr>\n",
       "      <th>1</th>\n",
       "      <td>2024-11-01</td>\n",
       "      <td>DESTILARIA DE ÁLCOOL LIBRA LTDA - EM RECUPERAÇ...</td>\n",
       "      <td>297598000122</td>\n",
       "      <td>Mato Grosso</td>\n",
       "      <td>600</td>\n",
       "      <td>600</td>\n",
       "    </tr>\n",
       "    <tr>\n",
       "      <th>2</th>\n",
       "      <td>2024-11-01</td>\n",
       "      <td>CENTRAL ENERGETICA VALE DO SAPUCAI LTDA</td>\n",
       "      <td>372496000124</td>\n",
       "      <td>São Paulo</td>\n",
       "      <td>900</td>\n",
       "      <td>517</td>\n",
       "    </tr>\n",
       "    <tr>\n",
       "      <th>3</th>\n",
       "      <td>2024-11-01</td>\n",
       "      <td>DENUSA DESTILARIA NOVA UNIAO S/A - EM RECUPERA...</td>\n",
       "      <td>595322000120</td>\n",
       "      <td>Goiás</td>\n",
       "      <td>650</td>\n",
       "      <td>450</td>\n",
       "    </tr>\n",
       "    <tr>\n",
       "      <th>4</th>\n",
       "      <td>2024-11-01</td>\n",
       "      <td>SANTA CRUZ ACUCAR E ALCOOL LTDA</td>\n",
       "      <td>738822000255</td>\n",
       "      <td>Bahia</td>\n",
       "      <td>240</td>\n",
       "      <td>200</td>\n",
       "    </tr>\n",
       "    <tr>\n",
       "      <th>5</th>\n",
       "      <td>2024-11-01</td>\n",
       "      <td>CJ SELECTA S.A.</td>\n",
       "      <td>969790000541</td>\n",
       "      <td>Minas Gerais</td>\n",
       "      <td>35</td>\n",
       "      <td>0</td>\n",
       "    </tr>\n",
       "    <tr>\n",
       "      <th>6</th>\n",
       "      <td>2024-11-01</td>\n",
       "      <td>WD AGROINDUSTRIAL LTDA</td>\n",
       "      <td>1105558000102</td>\n",
       "      <td>Minas Gerais</td>\n",
       "      <td>450</td>\n",
       "      <td>220</td>\n",
       "    </tr>\n",
       "    <tr>\n",
       "      <th>7</th>\n",
       "      <td>2024-11-01</td>\n",
       "      <td>USINA RIO VERDE LTDA EM RECUPERACAO JUDICIAL</td>\n",
       "      <td>2043917000107</td>\n",
       "      <td>Goiás</td>\n",
       "      <td>330</td>\n",
       "      <td>120</td>\n",
       "    </tr>\n",
       "    <tr>\n",
       "      <th>8</th>\n",
       "      <td>2024-11-01</td>\n",
       "      <td>T.G. AGRO INDUSTRIAL LTDA.</td>\n",
       "      <td>2126558000143</td>\n",
       "      <td>Maranhão</td>\n",
       "      <td>420</td>\n",
       "      <td>200</td>\n",
       "    </tr>\n",
       "    <tr>\n",
       "      <th>9</th>\n",
       "      <td>2024-11-01</td>\n",
       "      <td>VALE VERDE EMPREENDIMENTOS AGRICOLAS LTDA EM R...</td>\n",
       "      <td>2414858000390</td>\n",
       "      <td>Rio Grande do Norte</td>\n",
       "      <td>460</td>\n",
       "      <td>360</td>\n",
       "    </tr>\n",
       "    <tr>\n",
       "      <th>10</th>\n",
       "      <td>2024-11-01</td>\n",
       "      <td>VALE VERDE EMPREENDIMENTOS AGRICOLAS LTDA EM R...</td>\n",
       "      <td>2414858000470</td>\n",
       "      <td>Goiás</td>\n",
       "      <td>980</td>\n",
       "      <td>500</td>\n",
       "    </tr>\n",
       "    <tr>\n",
       "      <th>11</th>\n",
       "      <td>2024-11-01</td>\n",
       "      <td>VALE VERDE EMPREENDIMENTOS AGRICOLAS LTDA EM R...</td>\n",
       "      <td>2414858000632</td>\n",
       "      <td>Goiás</td>\n",
       "      <td>350</td>\n",
       "      <td>180</td>\n",
       "    </tr>\n",
       "    <tr>\n",
       "      <th>12</th>\n",
       "      <td>2024-11-01</td>\n",
       "      <td>USINA GOIANESIA S/A</td>\n",
       "      <td>2460988000105</td>\n",
       "      <td>Goiás</td>\n",
       "      <td>200</td>\n",
       "      <td>130</td>\n",
       "    </tr>\n",
       "    <tr>\n",
       "      <th>13</th>\n",
       "      <td>2024-11-01</td>\n",
       "      <td>JALLES MACHADO S.A.</td>\n",
       "      <td>2635522000195</td>\n",
       "      <td>Goiás</td>\n",
       "      <td>860</td>\n",
       "      <td>800</td>\n",
       "    </tr>\n",
       "    <tr>\n",
       "      <th>14</th>\n",
       "      <td>2024-11-01</td>\n",
       "      <td>JALLES MACHADO S.A.</td>\n",
       "      <td>2635522004930</td>\n",
       "      <td>Goiás</td>\n",
       "      <td>900</td>\n",
       "      <td>0</td>\n",
       "    </tr>\n",
       "    <tr>\n",
       "      <th>15</th>\n",
       "      <td>2024-11-01</td>\n",
       "      <td>USINA SANTA HELENA DE ACUCAR E ALCOOL S/A - EM...</td>\n",
       "      <td>2673754000219</td>\n",
       "      <td>Goiás</td>\n",
       "      <td>340</td>\n",
       "      <td>280</td>\n",
       "    </tr>\n",
       "    <tr>\n",
       "      <th>16</th>\n",
       "      <td>2024-11-01</td>\n",
       "      <td>LASA LAGO AZUL SA</td>\n",
       "      <td>2678100000105</td>\n",
       "      <td>Goiás</td>\n",
       "      <td>350</td>\n",
       "      <td>0</td>\n",
       "    </tr>\n",
       "    <tr>\n",
       "      <th>17</th>\n",
       "      <td>2024-11-01</td>\n",
       "      <td>GOIASA GOIATUBA ALCOOL LTDA</td>\n",
       "      <td>2773950000184</td>\n",
       "      <td>Goiás</td>\n",
       "      <td>800</td>\n",
       "      <td>300</td>\n",
       "    </tr>\n",
       "    <tr>\n",
       "      <th>18</th>\n",
       "      <td>2024-11-01</td>\n",
       "      <td>ANICUNS S A ALCOOL E DERIVADOS EM RECUPERACAO ...</td>\n",
       "      <td>2783009000141</td>\n",
       "      <td>Goiás</td>\n",
       "      <td>450</td>\n",
       "      <td>150</td>\n",
       "    </tr>\n",
       "    <tr>\n",
       "      <th>19</th>\n",
       "      <td>2024-11-01</td>\n",
       "      <td>VALE DO VERDAO SOCIEDADE ANONIMA ACUCAR E ALCOOL</td>\n",
       "      <td>2859452000230</td>\n",
       "      <td>Goiás</td>\n",
       "      <td>1280</td>\n",
       "      <td>850</td>\n",
       "    </tr>\n",
       "  </tbody>\n",
       "</table>\n",
       "</div>"
      ]
     },
     "execution_count": 10,
     "metadata": {},
     "output_type": "execute_result"
    }
   ],
   "execution_count": 10
  }
 ],
 "metadata": {
  "kernelspec": {
   "display_name": "Python 3",
   "language": "python",
   "name": "python3"
  },
  "language_info": {
   "codemirror_mode": {
    "name": "ipython",
    "version": 2
   },
   "file_extension": ".py",
   "mimetype": "text/x-python",
   "name": "python",
   "nbconvert_exporter": "python",
   "pygments_lexer": "ipython2",
   "version": "2.7.6"
  }
 },
 "nbformat": 4,
 "nbformat_minor": 5
}
